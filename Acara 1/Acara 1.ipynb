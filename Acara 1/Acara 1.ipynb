{
 "metadata": {
  "language_info": {
   "codemirror_mode": {
    "name": "ipython",
    "version": 3
   },
   "file_extension": ".py",
   "mimetype": "text/x-python",
   "name": "python",
   "nbconvert_exporter": "python",
   "pygments_lexer": "ipython3",
   "version": "3.8.5-final"
  },
  "orig_nbformat": 2,
  "kernelspec": {
   "name": "Python 3.8.5 32-bit",
   "display_name": "Python 3.8.5 32-bit",
   "metadata": {
    "interpreter": {
     "hash": "a5ff8bd412277661f1de1d86e35918412ea041cf137c6afab37adfce3e67ae0c"
    }
   }
  }
 },
 "nbformat": 4,
 "nbformat_minor": 2,
 "cells": [
  {
   "source": [
    "<center> <h1> Modul Praktikum Numerik </h1> </center>\n",
    "<center> <h2> Acara 1. Sistem Persamaan Linear </h2> </center>\n",
    "\n",
    "* [Google Drive - Modul Praktikum](https://drive.google.com/drive/folders/1uMaBNZ2VWBWpx080plEPaRVnLfh66UfH?usp=sharing)\n",
    "* [Github - Modul](https://github.com/FajrulHQ/Modul)\n",
    "    * [Google Drive - Acara 1](https://drive.google.com/drive/u/0/folders/1183IOE2AyPF-gyQVuzTEYEBTQUtLgtzp)\n",
    "\n",
    "### Contents\n",
    "\n",
    "1. Pendahuluan\n",
    "1. Eliminasi Gauss\n",
    "1. Eliminasi Jacobi\n",
    "\n",
    "#### 1. Pendahuluan\n",
    "Pada acara ke 1 ini, kita akan belajar mengenai Sistem Persamaan Linear serta implementasi kode python untuk menghitung operasi SPL.\n",
    "\n",
    "#### 2. Tujuan\n",
    "Tujuan acara ke 1 ini :\n",
    "\n",
    "\n",
    "* Praktikan mengerti cara mencari nilai `x1,x2,...,xn` dari sebuah SPL dengan metode beriterasi\n",
    "* Mengimpelemntasikan operasi SPL dalam program python\n"
   ],
   "cell_type": "markdown",
   "metadata": {}
  },
  {
   "source": [
    "#### A.Eliminasi Gauss\n",
    "Eliminasi Gauss merupakan metode untuk menyelesaikan persamaan matrik `Ax = b`.<br> \n",
    "Eleminasi Gauss mengubah matrik dalam bentuk: <br>"
   ],
   "cell_type": "markdown",
   "metadata": {}
  },
  {
   "source": [
    "<center>\n",
    "    <img alt=\"Gauss Elimination\" src=\"https://github.com/FajrulHQ/pict/blob/main/Acara%201/01.png?raw=true\">\n",
    "</center>"
   ],
   "cell_type": "markdown",
   "metadata": {}
  },
  {
   "source": [
    "menjadi matrik augmentasi"
   ],
   "cell_type": "markdown",
   "metadata": {}
  },
  {
   "source": [
    "<center>\n",
    "    <img alt=\"Gauss Elimination\" src=\"https://github.com/FajrulHQ/pict/blob/main/Acara%201/02.png?raw=true\">\n",
    "</center>"
   ],
   "cell_type": "markdown",
   "metadata": {}
  },
  {
   "source": [
    "kemudian dilakukan operasi baris dan kolom (forward elimination) sehingga matrik diatas berubah menjadi"
   ],
   "cell_type": "markdown",
   "metadata": {}
  },
  {
   "source": [
    "<center>\n",
    "    <img alt=\"Gauss Elimination\" src=\"https://github.com/FajrulHQ/pict/blob/main/Acara%201/02-1.png?raw=true\">\n",
    "</center>"
   ],
   "cell_type": "markdown",
   "metadata": {}
  },
  {
   "source": [
    "Persamaan diselesaikan untuk `xn` dari baris ke `n`, kemudian disubtitusikan kembali (_backward subtitution_) ke persamaan untuk `xn−1` dari baris ke `(n−1)`, berdasarkan persamaan berikut:"
   ],
   "cell_type": "markdown",
   "metadata": {}
  },
  {
   "source": [
    "<center>\n",
    "    <img alt=\"Gauss Elimination\" src=\"https://github.com/FajrulHQ/pict/blob/main/Acara%201/03.png?raw=true\">\n",
    "</center>"
   ],
   "cell_type": "markdown",
   "metadata": {}
  },
  {
   "cell_type": "code",
   "execution_count": null,
   "metadata": {
    "tags": []
   },
   "outputs": [],
   "source": [
    "# Gauss Elimination\n",
    "\n",
    "import numpy as np\n",
    "def gaussElimin(a,b):\n",
    "  n = len(b)\n",
    "  \n",
    "  # Elimination Phase\n",
    "  for k in range(0,n-1):\n",
    "    for i in range(k+1,n):\n",
    "       \n",
    "      if a[i,k] != 0.0:\n",
    "        lam = a[i,k]/a[k,k]\n",
    "        a[i,k+1:n] = a[i,k+1:n] - lam*a[k,k+1:n]\n",
    "        b[i] = b[i] - lam*b[k]\n",
    "\n",
    "# Back substitution\n",
    "  for k in range(n-1,-1,-1):\n",
    "    b[k] = (b[k] - np.dot(a[k,k+1:n],b[k+1:n]))/a[k,k]\n",
    "  return b\n",
    "\n",
    "A = np.array([[4.0,-2.0,1.0],\n",
    "              [-2.0,4.0,-2.0],\n",
    "              [1.0,-2.0,4.0]])\n",
    "\n",
    "B = np.array([11.0,-16.0,17.0])\n",
    "\n",
    "aOrig = A.copy() # Save original matrix\n",
    "bOrig = B.copy() # and the constant vector\n",
    "x = gaussElimin(A,B)\n",
    "det = np.prod(np.diagonal(A))\n",
    "print('x =',x)\n",
    "print('\\ndet =',det)\n",
    "print('\\nCheck result: [a]{x} - b =',np.dot(aOrig,x) - bOrig)\n",
    "input(\"\\nPress return to exit\")"
   ]
  },
  {
   "source": [
    "#### A.Eliminasi Jacobi\n",
    "Dengan metode Jacobi ini ada 2 asumsi yaitu : <br>\n",
    "\n",
    "A. Sistem Persamaannya dan memiliki hasil yang unik"
   ],
   "cell_type": "markdown",
   "metadata": {}
  },
  {
   "source": [
    "<center>\n",
    "    <img alt=\"Gauss Elimination\" src=\"https://github.com/FajrulHQ/pict/blob/main/Acara%201/04.png?raw=true\">\n",
    "</center>"
   ],
   "cell_type": "markdown",
   "metadata": {}
  },
  {
   "source": [
    "B.\tKoefisien matrix A tidak mengandung _zeros_ (0) di diagonal matriksnya \n",
    "\n",
    "Untuk memulai, selesaikan persamaan 1 untuk `x`1 , persamaan 2 untuk `x2` sampai ke persamaan `n` untuk `xn` yang di dapat di tuliskan dalam persamaan sebagai berikut : \n"
   ],
   "cell_type": "markdown",
   "metadata": {}
  },
  {
   "source": [
    "<center>\n",
    "    <img alt=\"Gauss Elimination\" src=\"https://github.com/FajrulHQ/pict/blob/main/Acara%201/05.png?raw=true\">\n",
    "</center>"
   ],
   "cell_type": "markdown",
   "metadata": {}
  },
  {
   "source": [
    "Dimana kita menentukan `x(0) = x1(0) , x2(0), … , xn(0)` dimana akan di dapatkan nilai _first approximation_ `x(1) = x1(1), x2(1),….,xn(1)`. \n",
    "\n",
    "Proses diatas dapat di katakan 1 proses iterasi. Untuk mencari nilai _second approximation_ dilakukan cara yang sama seperti cara _first approximation_. Dengan mengulangi iterasinya, kita akan mendapatkan urutan nilai _approximation_."
   ],
   "cell_type": "markdown",
   "metadata": {}
  },
  {
   "source": [
    "<center>\n",
    "    <img alt=\"Gauss Elimination\" src=\"https://github.com/FajrulHQ/pict/blob/main/Acara%201/06.png?raw=true\">\n",
    "</center>"
   ],
   "cell_type": "markdown",
   "metadata": {}
  },
  {
   "source": [
    "Untuk menyelesaikan metode Jacobi kita dapat menggunkan bentuk matrix. Untuk menyelesaikan dengan cara matriks kita akan melewati beberapa tahapan : \n",
    "\n",
    "Kita membutuhkan sebuah persamaan matriks dimana `Ax = b` dengan"
   ],
   "cell_type": "markdown",
   "metadata": {}
  },
  {
   "source": [
    "<center>\n",
    "    <img alt=\"Gauss Elimination\" src=\"https://github.com/FajrulHQ/pict/blob/main/Acara%201/07.png?raw=true\">\n",
    "</center>"
   ],
   "cell_type": "markdown",
   "metadata": {}
  },
  {
   "source": [
    "Matriks akan kita bagi menjadi 3 bagian menjadi:"
   ],
   "cell_type": "markdown",
   "metadata": {}
  },
  {
   "source": [
    "<center>\n",
    "    <img alt=\"Gauss Elimination\" src=\"https://github.com/FajrulHQ/pict/blob/main/Acara%201/08.png?raw=true\">\n",
    "</center>"
   ],
   "cell_type": "markdown",
   "metadata": {}
  },
  {
   "source": [
    "Hal tersebut menjadikan persamaan menjadi _(D – L – U )x = b ->  Dx = (L + U)x + b_\n",
    "\n",
    "Untuk menghilangkan matriks ___D___ maka kita perlu mencari nilai ___D<sup>-1</sup>___ "
   ],
   "cell_type": "markdown",
   "metadata": {}
  },
  {
   "source": [
    "<center>\n",
    "    <img alt=\"Gauss Elimination\" src=\"https://github.com/FajrulHQ/pict/blob/main/Acara%201/09.png?raw=true\">\n",
    "</center>"
   ],
   "cell_type": "markdown",
   "metadata": {}
  },
  {
   "source": [
    "Maka persamaan berubah menjadi _x = D<sup>-1</sup>(L+U)x + D<sup>-1</sup>b_ \n",
    "\n",
    "Dan secara umum persamaan iterasi metode jacobi yaitu:"
   ],
   "cell_type": "markdown",
   "metadata": {}
  },
  {
   "source": [
    "<center>\n",
    "    <img alt=\"Gauss Elimination\" src=\"https://github.com/FajrulHQ/pict/blob/main/Acara%201/10.png?raw=true\">\n",
    "</center>"
   ],
   "cell_type": "markdown",
   "metadata": {}
  },
  {
   "source": [
    "Kita asumsikan"
   ],
   "cell_type": "markdown",
   "metadata": {}
  },
  {
   "source": [
    "<center>\n",
    "    <img alt=\"Gauss Elimination\" src=\"https://github.com/FajrulHQ/pict/blob/main/Acara%201/11.png?raw=true\">\n",
    "</center>"
   ],
   "cell_type": "markdown",
   "metadata": {}
  },
  {
   "source": [
    "Dan"
   ],
   "cell_type": "markdown",
   "metadata": {}
  },
  {
   "source": [
    "<center>\n",
    "    <img alt=\"Gauss Elimination\" src=\"https://github.com/FajrulHQ/pict/blob/main/Acara%201/12.png?raw=true\">\n",
    "</center>"
   ],
   "cell_type": "markdown",
   "metadata": {}
  },
  {
   "source": [
    "Maka rumus akhirnya adalah"
   ],
   "cell_type": "markdown",
   "metadata": {}
  },
  {
   "source": [
    "<center>\n",
    "    <img alt=\"Gauss Elimination\" src=\"https://github.com/FajrulHQ/pict/blob/main/Acara%201/13.png?raw=true\">\n",
    "</center>"
   ],
   "cell_type": "markdown",
   "metadata": {}
  },
  {
   "cell_type": "code",
   "execution_count": null,
   "metadata": {
    "tags": []
   },
   "outputs": [],
   "source": [
    "import numpy as np\n",
    "\n",
    "A = np.array([[4.0,-2.0,1.0],\n",
    "              [-2.0,4.0,-2.0],\n",
    "              [1.0,-2.0,4.0]])\n",
    "\n",
    "b = np.array([11.0,-16.0,17.0])\n",
    "\n",
    "# toleransi error\n",
    "tolerance = 0.00001\n",
    "\n",
    "# iterasi masksimal\n",
    "max_iter = 1000\n",
    "\n",
    "nA = len(A)\n",
    "\n",
    "# matrik identitas\n",
    "D = np.identity(nA)\n",
    "\n",
    "D_inv = np.zeros((nA,nA))\n",
    "\n",
    "for i in range(nA):\n",
    "    D_inv[i][i] = 1.0/A[i][i]\n",
    "\n",
    "C = D - np.dot(D_inv,A)\n",
    "d = np.dot(D_inv,b)\n",
    "\n",
    "# nilai x awal\n",
    "x_old = np.array([0,0,0])\n",
    "\n",
    "# perhitungan nilai x dan iterasinya\n",
    "for iteration in range(max_iter):\n",
    "    x = d + np.dot(C,x_old)\n",
    "    for i in range(nA):\n",
    "        print(iteration,x[i],x[i]-x_old[i])\n",
    "\n",
    "    error = np.max(abs(x-x_old))\n",
    "    \n",
    "    x_old = x\n",
    "    \n",
    "    # cek konvergensi\n",
    "    if(error<tolerance):\n",
    "        print()\n",
    "        print(\"Penyelesaian matriks x adalah\")\n",
    "        for i in range (nA):\n",
    "            print(\"x%s=\"%(i+1),x[i])\n",
    "        print()\n",
    "        print(\"error= \",error)\n",
    "        break\n"
   ]
  }
 ]
}